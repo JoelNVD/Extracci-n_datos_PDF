{
  "nbformat": 4,
  "nbformat_minor": 0,
  "metadata": {
    "colab": {
      "provenance": [],
      "collapsed_sections": []
    },
    "kernelspec": {
      "name": "python3",
      "display_name": "Python 3"
    },
    "language_info": {
      "name": "python"
    }
  },
  "cells": [
    {
      "cell_type": "markdown",
      "source": [
        "# INSTALAR CAMELOT\n",
        "## Nos permite leer datos del pdf"
      ],
      "metadata": {
        "id": "vl_Ch1aMCA4b"
      }
    },
    {
      "cell_type": "code",
      "execution_count": null,
      "metadata": {
        "id": "5O_leh88GiQx",
        "colab": {
          "base_uri": "https://localhost:8080/"
        },
        "outputId": "7a16e334-6058-4c06-dd6e-3d492a82c119"
      },
      "outputs": [
        {
          "output_type": "stream",
          "name": "stdout",
          "text": [
            "Reading package lists... Done\n",
            "Building dependency tree       \n",
            "Reading state information... Done\n",
            "ghostscript is already the newest version (9.26~dfsg+0-0ubuntu0.18.04.17).\n",
            "The following package was automatically installed and is no longer required:\n",
            "  libnvidia-common-460\n",
            "Use 'apt autoremove' to remove it.\n",
            "0 upgraded, 0 newly installed, 0 to remove and 4 not upgraded.\n"
          ]
        }
      ],
      "source": [
        "!pip install \"camelot-py[cv]\" -q\n",
        "!apt-get install ghostscript"
      ]
    },
    {
      "cell_type": "markdown",
      "source": [
        "# PEQUETES ESCENCIALES\n",
        "## Para manejar las variables y dataframes"
      ],
      "metadata": {
        "id": "D93DVuMuCFdj"
      }
    },
    {
      "cell_type": "code",
      "source": [
        "import camelot as cam\n",
        "import numpy as np\n",
        "import pandas as pd\n",
        "\n",
        "import urllib.request\n",
        "import urllib.parse\n",
        "\n",
        "import time\n",
        "from matplotlib.pyplot import figure"
      ],
      "metadata": {
        "id": "_nGaXXxMCIsT"
      },
      "execution_count": null,
      "outputs": []
    },
    {
      "cell_type": "markdown",
      "source": [
        "# PDF to DataFrame\n",
        "## Acá la información del pdf pasa a un DataFrame ordenado\n",
        "\n",
        "### PASO 1: leemos el pdf y extraemos datos"
      ],
      "metadata": {
        "id": "z7UrGxeMCyD8"
      }
    },
    {
      "cell_type": "code",
      "source": [
        "# Extraemos los datos y los guardamos en DF's\n",
        "for i in range(1,137,1):\n",
        "  globals()['tab_%s' % i] = cam.read_pdf(\"Fichas_Tecnicas_Centrales_Operacion.pdf\", pages = str(i+4), flavor = 'stream') #, table_areas=['40,800,600,390']\n",
        "  globals()['tabla_%s' % i] = globals()['tab_%s' % i][0].df"
      ],
      "metadata": {
        "id": "3eQ3-_kcCM_b"
      },
      "execution_count": null,
      "outputs": []
    },
    {
      "cell_type": "code",
      "source": [
        "# Exportamos cada DF a una hoja distinta, pero en el mismo Excel\n",
        "with pd.ExcelWriter(\"borrar_2.xlsx\") as writer:\n",
        "  for p in range(1,137,1):\n",
        "    globals()['tabla_%s' % p].to_excel(writer, sheet_name=\"hojas\"+str(p+4), index=False)"
      ],
      "metadata": {
        "id": "oDQ09BkUD_PM"
      },
      "execution_count": null,
      "outputs": []
    },
    {
      "cell_type": "markdown",
      "source": [
        "### PASO 2: revisamos que hojas han exportado bien y cuales no y volvemos a reahacer el proceso"
      ],
      "metadata": {
        "id": "RhfOfbAyDDP9"
      }
    },
    {
      "cell_type": "code",
      "source": [
        "hojas_falladas = [16,24,25,32,33,34,35,36,37,56,57,58,59,60,63,64,65,70,\n",
        "                  71,72,74,78,81,85,87,88,93,95,97,98,100,104,105,107,\n",
        "                  109,117,118,119,128,130,131,132,134,135,137,140]\n",
        "                  \n",
        "for j in range(0,len(hojas_falladas),1):\n",
        "  globals()['tab_%s' % j] = cam.read_pdf(\"Fichas_Tecnicas_Centrales_Operacion.pdf\", pages = str(hojas_falladas[j]),\n",
        "                                         flavor = 'stream', table_areas=['40,800,400,350']) # Acá sería donde ocurria el cambio \"table_areas\"\n",
        "  globals()['tabla_f_%s' % j] = globals()['tab_%s' % j][0].df"
      ],
      "metadata": {
        "id": "_4trTVcnDCpd"
      },
      "execution_count": null,
      "outputs": []
    },
    {
      "cell_type": "code",
      "source": [
        "with pd.ExcelWriter(\"borrar_3.xlsx\") as writer:\n",
        "  for j in range(0,len(hojas_falladas),1):\n",
        "    globals()['tabla_f_%s' % j].to_excel(writer, sheet_name=\"hojas\"+str(hojas_falladas[j]), index=False)"
      ],
      "metadata": {
        "id": "DOBNYkk3DcBE"
      },
      "execution_count": null,
      "outputs": []
    },
    {
      "cell_type": "markdown",
      "source": [
        "###  PASO 3: Repetimos el paso 2 y filtramos las hojas"
      ],
      "metadata": {
        "id": "fs6-LvpGE3XC"
      }
    },
    {
      "cell_type": "code",
      "source": [
        "hojas_falladas = []\n",
        "                  \n",
        "for j in range(0,len(hojas_falladas),1):\n",
        "  globals()['tab_%s' % j] = cam.read_pdf(\"Fichas_Tecnicas_Centrales_Operacion.pdf\", pages = str(hojas_falladas[j]),\n",
        "                                         flavor = 'stream', table_areas=['40,800,400,350']) # Acá sería donde ocurria el cambio \"table_areas\"\n",
        "  globals()['tabla_f_%s' % j] = globals()['tab_%s' % j][0].df"
      ],
      "metadata": {
        "id": "l9C0HOUAEsTj"
      },
      "execution_count": null,
      "outputs": []
    },
    {
      "cell_type": "code",
      "source": [
        "with pd.ExcelWriter(\"borrar_3.xlsx\") as writer:\n",
        "  for j in range(0,len(hojas_falladas),1):\n",
        "    globals()['tabla_f_%s' % j].to_excel(writer, sheet_name=\"hojas\"+str(hojas_falladas[j]), index=False)"
      ],
      "metadata": {
        "id": "J35WOWncE6QL"
      },
      "execution_count": null,
      "outputs": []
    },
    {
      "cell_type": "markdown",
      "source": [
        "Esta última celda no servirás una ve que hayamos identificado como se distribuye cada tabla en cada pdf"
      ],
      "metadata": {
        "id": "xGsDIVNpFG0M"
      }
    },
    {
      "cell_type": "code",
      "source": [
        "tab = cam.read_pdf(\"Fichas_Tecnicas_Centrales_Operacion.pdf\", pages = '5', flavor = 'stream')\n",
        "tabla = tab[0].df\n",
        "tabla = tabla.drop([2], axis=1)\n",
        "tabla_transicion  = tabla[1].str.split(pat='\\n', expand=True)\n",
        "tabla = pd.concat([tabla, tabla_transicion], axis=1)\n",
        "tabla.columns = range(tabla.columns.size)\n",
        "tabla = tabla.drop([1], axis=1)\n",
        "tabla.columns = range(tabla.columns.size)\n",
        "tabla"
      ],
      "metadata": {
        "id": "G1mJ_0GRQ0li"
      },
      "execution_count": null,
      "outputs": []
    }
  ]
}